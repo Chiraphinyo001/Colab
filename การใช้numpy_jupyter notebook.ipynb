{
 "cells": [
  {
   "cell_type": "code",
   "execution_count": 1,
   "id": "91f9aef6-c40a-4c3a-8486-1f0b93e9988c",
   "metadata": {},
   "outputs": [],
   "source": [
    "import numpy as np"
   ]
  },
  {
   "cell_type": "code",
   "execution_count": null,
   "id": "13e301a7-92fb-459c-8887-c7959690de52",
   "metadata": {},
   "outputs": [],
   "source": [
    "a.sum()  #ผลรวม\n",
    "a.prod() #ผลคูณ\n",
    "a.mean() #ค่าเฉลี่ย\n",
    "a.max()  #ค่าสูงสุด\n",
    "a.min()  #ค่าต่ำสุด\n",
    "a.argmax() #ระบุตำแหน่งที่มากที่สุด\n",
    "a.argmin() #ระบุตำแหน่งที่ตำแหน่งต่ำที่สุด\n",
    "#np.min(b,axis = 0) หาค่าตำสุด     0 แนวตั้ง 1แนวนอน\n",
    "#np.mix(b,axis = 0) หาค่าสูงสุด     0 แนวตั้ง 1แนวนอน\n",
    "#c = a.dot(b) คูณเมททริก.product   ขนาดต้องเท่ากัน"
   ]
  },
  {
   "cell_type": "code",
   "execution_count": 3,
   "id": "1d79a10f-9d8e-4f61-bf24-88df81c71373",
   "metadata": {},
   "outputs": [
    {
     "data": {
      "text/plain": [
       "array([ 1,  2,  3,  4,  5,  6,  7,  8,  9, 10])"
      ]
     },
     "execution_count": 3,
     "metadata": {},
     "output_type": "execute_result"
    }
   ],
   "source": [
    "a = np.array([1,2,3,4,5,6,7,8,9,10]) # 1 ชั้น\n",
    "a   "
   ]
  },
  {
   "cell_type": "code",
   "execution_count": 5,
   "id": "dd4a7f99-a27a-4d3b-8fce-10db75d28362",
   "metadata": {},
   "outputs": [
    {
     "data": {
      "text/plain": [
       "array([[1, 2, 3],\n",
       "       [4, 5, 6]])"
      ]
     },
     "execution_count": 5,
     "metadata": {},
     "output_type": "execute_result"
    }
   ],
   "source": [
    "b = np.array([[1,2,3],[4,5,6]]) # 2 ชั้น\n",
    "b   "
   ]
  },
  {
   "cell_type": "code",
   "execution_count": 37,
   "id": "da88b876-f983-4ed9-95c8-ceb99a88ec3e",
   "metadata": {},
   "outputs": [
    {
     "data": {
      "text/plain": [
       "array([[[1, 2, 3],\n",
       "        [4, 5, 6],\n",
       "        [7, 8, 9]]])"
      ]
     },
     "execution_count": 37,
     "metadata": {},
     "output_type": "execute_result"
    }
   ],
   "source": [
    "c = np.array([[[1,2,3],[4,5,6],[7,8,9]]]) # 3 ชั้น\n",
    "c "
   ]
  },
  {
   "cell_type": "code",
   "execution_count": 39,
   "id": "e03f0aba-bebd-4272-843c-d86af0e808d4",
   "metadata": {},
   "outputs": [
    {
     "data": {
      "text/plain": [
       "array([[[7, 8, 9]]])"
      ]
     },
     "execution_count": 39,
     "metadata": {},
     "output_type": "execute_result"
    }
   ],
   "source": [
    "c[:] #เอาทุกสมาชิก (ทั้งอาเรย์)   \n",
    "c[2:] # เริ่มจาก index 2 (รวม) ไปจนสุด → [2 3 4 5 6 7 8 9]    \n",
    "c[:5] #เริ่มที่ 0 จนถึง ก่อน index 5 → indices 0..4 → [0 1 2 3 4]\n",
    "c[3:7] #เลือกจะเอาช่วงไหน  ระบุช่วง indices 3..6 → [3 4 5 6]\n",
    "c[3:7:2] #กะโดดข้ามสมาชิก เพิ่มทีละ 2 (กะโดดทีละ 2) → [3 5]\n",
    "c[1:,1:] #เอา แถวตั้งแต่ index 1 ลงไป และ คอลัมน์ตั้งแต่ index 1 ลงไป\n",
    "c[:2,2:] #เอา แถวตั้งแต่เริ่มจนก่อน index 2 (คือแถว 0 และ 1) และ คอลัมน์ตั้งแต่ index 2 ถึงสุด"
   ]
  },
  {
   "cell_type": "code",
   "execution_count": 46,
   "id": "e13c80fe-fa0f-4ed4-9d27-e8f95e216e26",
   "metadata": {},
   "outputs": [
    {
     "data": {
      "text/plain": [
       "array([3, 4])"
      ]
     },
     "execution_count": 46,
     "metadata": {},
     "output_type": "execute_result"
    }
   ],
   "source": [
    "b[[0,1],[2,0]] # ระบุสมาชิก ใน array"
   ]
  },
  {
   "cell_type": "code",
   "execution_count": 7,
   "id": "cf04fc7f-c678-4bca-8279-76073258d01c",
   "metadata": {},
   "outputs": [
    {
     "data": {
      "text/plain": [
       "3"
      ]
     },
     "execution_count": 7,
     "metadata": {},
     "output_type": "execute_result"
    }
   ],
   "source": [
    "c.ndim # เช็คชั้นของ "
   ]
  },
  {
   "cell_type": "code",
   "execution_count": 32,
   "id": "be74e8b0-607f-4a4c-9347-04f4e114b96a",
   "metadata": {},
   "outputs": [
    {
     "data": {
      "text/plain": [
       "array([[[1, 2, 3],\n",
       "        [4, 5, 6]]])"
      ]
     },
     "execution_count": 32,
     "metadata": {},
     "output_type": "execute_result"
    }
   ],
   "source": [
    "c.shape #บอกรูปร่าง โครงสร้าง มิติ มองเป็นแถวก่อน "
   ]
  },
  {
   "cell_type": "code",
   "execution_count": 33,
   "id": "859c8360-1ed6-4461-83c2-0302dd85e1cf",
   "metadata": {},
   "outputs": [
    {
     "data": {
      "text/plain": [
       "6"
      ]
     },
     "execution_count": 33,
     "metadata": {},
     "output_type": "execute_result"
    }
   ],
   "source": [
    "c.size #บอกจำนวนสมาชิก มีกี่ตัว"
   ]
  },
  {
   "cell_type": "code",
   "execution_count": 34,
   "id": "121446d6-55ba-4fec-a2b9-0673f9c40784",
   "metadata": {},
   "outputs": [
    {
     "data": {
      "text/plain": [
       "8"
      ]
     },
     "execution_count": 34,
     "metadata": {},
     "output_type": "execute_result"
    }
   ],
   "source": [
    "c.itemsize # บอกขนาด array  บอก byte โดยคำนวณ bit  หา byte"
   ]
  },
  {
   "cell_type": "code",
   "execution_count": 10,
   "id": "d91b7abb-4361-4d39-b8fe-89a403fdbc79",
   "metadata": {},
   "outputs": [
    {
     "data": {
      "text/plain": [
       "array([[0, 0, 0, 0, 0],\n",
       "       [0, 0, 0, 0, 0],\n",
       "       [0, 0, 0, 0, 0],\n",
       "       [0, 0, 0, 0, 0],\n",
       "       [0, 0, 0, 0, 0]])"
      ]
     },
     "execution_count": 10,
     "metadata": {},
     "output_type": "execute_result"
    }
   ],
   "source": [
    "A = np.zeros([5,5],dtype = \"int\") #สร้างเมททริก ให้เป็น 0 ทั้งหมด เมททริกจตุรัสด้านต้องเท่ากัน เมททริกขนาด 2 มิติ\n",
    "A"
   ]
  },
  {
   "cell_type": "code",
   "execution_count": 13,
   "id": "94e69fda-599a-48ca-b8c7-4024cbf9138e",
   "metadata": {},
   "outputs": [
    {
     "data": {
      "text/plain": [
       "array([[1., 1., 1., 1., 1.],\n",
       "       [1., 1., 1., 1., 1.],\n",
       "       [1., 1., 1., 1., 1.],\n",
       "       [1., 1., 1., 1., 1.],\n",
       "       [1., 1., 1., 1., 1.]])"
      ]
     },
     "execution_count": 13,
     "metadata": {},
     "output_type": "execute_result"
    }
   ],
   "source": [
    "B = np.ones([5,5]) #สร้างเมททริก ให้เป็น 1 ทั้งหมดแบบ 2 มิติ\n",
    "B"
   ]
  },
  {
   "cell_type": "code",
   "execution_count": 14,
   "id": "a1ac4204-18d4-46a5-a3b6-72ed0d5bac04",
   "metadata": {},
   "outputs": [
    {
     "data": {
      "text/plain": [
       "array([1., 1., 1., 1., 1., 1., 1., 1., 1., 1.])"
      ]
     },
     "execution_count": 14,
     "metadata": {},
     "output_type": "execute_result"
    }
   ],
   "source": [
    "C = np.ones(10) # แบบ 1มิติ\n",
    "C"
   ]
  },
  {
   "cell_type": "code",
   "execution_count": 16,
   "id": "0a7a31e4-b6c6-4821-ae42-389237f73f4c",
   "metadata": {},
   "outputs": [
    {
     "data": {
      "text/plain": [
       "array([10, 10, 10, 10, 10, 10])"
      ]
     },
     "execution_count": 16,
     "metadata": {},
     "output_type": "execute_result"
    }
   ],
   "source": [
    "D = np.full(6,10) # ขนาดของ array ที่ต้องการสร้าง 6 และ 10 คือ ค่าที่ต้องการเติมให้ทุกตำแหน่\n",
    "D"
   ]
  },
  {
   "cell_type": "code",
   "execution_count": 17,
   "id": "56b9f722-95c9-452f-b2ae-f76aa935cbaf",
   "metadata": {},
   "outputs": [
    {
     "data": {
      "text/plain": [
       "array([[7, 7, 7, 7, 7, 7, 7, 7, 7, 7],\n",
       "       [7, 7, 7, 7, 7, 7, 7, 7, 7, 7],\n",
       "       [7, 7, 7, 7, 7, 7, 7, 7, 7, 7],\n",
       "       [7, 7, 7, 7, 7, 7, 7, 7, 7, 7],\n",
       "       [7, 7, 7, 7, 7, 7, 7, 7, 7, 7]])"
      ]
     },
     "execution_count": 17,
     "metadata": {},
     "output_type": "execute_result"
    }
   ],
   "source": [
    "E = np.full([5,10],7) #แบบ 2 มิติ\n",
    "E"
   ]
  },
  {
   "cell_type": "code",
   "execution_count": 18,
   "id": "74adfcbe-3dae-4680-aced-75076fbb0b95",
   "metadata": {},
   "outputs": [
    {
     "data": {
      "text/plain": [
       "array([[1.69716213e-316, 0.00000000e+000, 1.01855798e-312,\n",
       "        9.54898106e-313],\n",
       "       [1.06099790e-312, 1.01855798e-312, 1.23075756e-312,\n",
       "        1.20953760e-312],\n",
       "       [1.08221785e-312, 9.76118064e-313, 1.14587773e-312,\n",
       "        1.90979621e-312]])"
      ]
     },
     "execution_count": 18,
     "metadata": {},
     "output_type": "execute_result"
    }
   ],
   "source": [
    "F = np.empty([3,4]) # สร้างarrayเปล่า นำขนาดมาใช้เช่น 3*4,4*4 คิดเฉพาะโครงสร้างไม่คิดข้อมูลสุ่มตัวเลขขึ้นมาในarray\n",
    "F"
   ]
  },
  {
   "cell_type": "code",
   "execution_count": 20,
   "id": "5d6f7625-3ef6-4acb-b4c5-f02542809374",
   "metadata": {},
   "outputs": [
    {
     "data": {
      "text/plain": [
       "array([[1, 0, 0, 0, 0],\n",
       "       [0, 1, 0, 0, 0],\n",
       "       [0, 0, 1, 0, 0],\n",
       "       [0, 0, 0, 1, 0],\n",
       "       [0, 0, 0, 0, 1]])"
      ]
     },
     "execution_count": 20,
     "metadata": {},
     "output_type": "execute_result"
    }
   ],
   "source": [
    "G = np.identity(5,dtype = \"int\") # สร้าง array แนวทแยงมุม เป็น 1\n",
    "G"
   ]
  },
  {
   "cell_type": "code",
   "execution_count": 21,
   "id": "8bd6c6b5-252e-4fcb-a6ba-b4f0fb1d8dea",
   "metadata": {},
   "outputs": [
    {
     "data": {
      "text/plain": [
       "array([[1., 0., 0., 0.],\n",
       "       [0., 1., 0., 0.],\n",
       "       [0., 0., 1., 0.]])"
      ]
     },
     "execution_count": 21,
     "metadata": {},
     "output_type": "execute_result"
    }
   ],
   "source": [
    "H = np.eye(3,4) #ทะแยงมุม เป็น 1 ที่เหลือเป็น 0 เปลี่ยนมุมได้ \n",
    "H"
   ]
  },
  {
   "cell_type": "code",
   "execution_count": 25,
   "id": "b6ab3578-0f1b-4a4d-ab69-ba1c6f9c4ead",
   "metadata": {},
   "outputs": [
    {
     "data": {
      "text/plain": [
       "array([1.        , 1.08163265, 1.16326531, 1.24489796, 1.32653061,\n",
       "       1.40816327, 1.48979592, 1.57142857, 1.65306122, 1.73469388,\n",
       "       1.81632653, 1.89795918, 1.97959184, 2.06122449, 2.14285714,\n",
       "       2.2244898 , 2.30612245, 2.3877551 , 2.46938776, 2.55102041,\n",
       "       2.63265306, 2.71428571, 2.79591837, 2.87755102, 2.95918367,\n",
       "       3.04081633, 3.12244898, 3.20408163, 3.28571429, 3.36734694,\n",
       "       3.44897959, 3.53061224, 3.6122449 , 3.69387755, 3.7755102 ,\n",
       "       3.85714286, 3.93877551, 4.02040816, 4.10204082, 4.18367347,\n",
       "       4.26530612, 4.34693878, 4.42857143, 4.51020408, 4.59183673,\n",
       "       4.67346939, 4.75510204, 4.83673469, 4.91836735, 5.        ])"
      ]
     },
     "execution_count": 25,
     "metadata": {},
     "output_type": "execute_result"
    }
   ],
   "source": [
    "I = np.linspace(1,5) #  สร้างarray 1 มิติ กำหนดช่วงจุดเริ่มต้นและจุดสุดท้าย\n",
    "I\n",
    "# I = np.linspace(1,5,4) เหมาะกับการมาพอตราฟ เพราะเว้นช่วงเท่าเท่ากัน\n",
    "# I = np.linspace(1,5,endpoint=False) ไม่เอาตัวสุดท้าย  กำหนดช่วงข้อมูล"
   ]
  },
  {
   "cell_type": "code",
   "execution_count": 26,
   "id": "c2500e4e-c147-488d-818f-2ad9ef92e451",
   "metadata": {},
   "outputs": [
    {
     "data": {
      "text/plain": [
       "array([1, 3, 5, 7, 9])"
      ]
     },
     "execution_count": 26,
     "metadata": {},
     "output_type": "execute_result"
    }
   ],
   "source": [
    "J = np.arange(1,10,2) # 1 จุดเริ่มต้น ,10 จุดสิ้นสุด,เพิ่มค่าขึ้นที่ละ 2,กำหนดช่วงเริ่มต้น และจุดสิ้นสุด\n",
    "J"
   ]
  },
  {
   "cell_type": "code",
   "execution_count": 27,
   "id": "5cabd6f4-2baa-4f5b-8f79-9fca9f626c50",
   "metadata": {},
   "outputs": [
    {
     "data": {
      "text/plain": [
       "array([[0.14269579, 0.95259891],\n",
       "       [0.88792596, 0.8164285 ]])"
      ]
     },
     "execution_count": 27,
     "metadata": {},
     "output_type": "execute_result"
    }
   ],
   "source": [
    "K = np.random.random([2,2]) #สุ่มข้อมูลสมาชิก  0 ถึงก่อน 1\n",
    "K"
   ]
  },
  {
   "cell_type": "code",
   "execution_count": 48,
   "id": "c62b98f6-c0d5-4496-ad79-db140d981309",
   "metadata": {},
   "outputs": [
    {
     "data": {
      "text/plain": [
       "array([1, 2, 3, 4, 5, 6, 7, 8, 9])"
      ]
     },
     "execution_count": 48,
     "metadata": {},
     "output_type": "execute_result"
    }
   ],
   "source": [
    "L = np.arange(1,10) # สร้าง array 1 -9\n",
    "L"
   ]
  },
  {
   "cell_type": "code",
   "execution_count": 51,
   "id": "8d217c23-c6a6-455c-bc27-30b269f21185",
   "metadata": {},
   "outputs": [
    {
     "data": {
      "text/plain": [
       "<function ndarray.reshape>"
      ]
     },
     "execution_count": 51,
     "metadata": {},
     "output_type": "execute_result"
    }
   ],
   "source": [
    "c.reshape #คืนค่า (return) array ใหม่ ที่เปลี่ยนโครงสร้าง (shape) ข้อมูลดิบ (data buffer) ยังเหมือนเดิม\n",
    "c.resize  #เปลี่ยนแปลงโครงสร้างถาวร//เปลี่ยน array เดิมโดยตรง (in-place) และอาจตัด/เติมค่า"
   ]
  },
  {
   "cell_type": "code",
   "execution_count": 53,
   "id": "32f50c31-e1e7-402a-8c77-b584db9ffe7f",
   "metadata": {},
   "outputs": [
    {
     "data": {
      "text/plain": [
       "array([1, 2, 3, 4, 5, 6, 7, 8, 9])"
      ]
     },
     "execution_count": 53,
     "metadata": {},
     "output_type": "execute_result"
    }
   ],
   "source": [
    "c.flatten() # จัดรูปแบบรูปร่าง จาก 2 มิติให้เป็น 1 มิติ  ไม่ถาวร ส่งค่ากลับมาในarrayก้อนใหม่"
   ]
  },
  {
   "cell_type": "code",
   "execution_count": 55,
   "id": "cd14ea12-fa3d-455c-bd71-aea37a2a1928",
   "metadata": {},
   "outputs": [
    {
     "data": {
      "text/plain": [
       "array([1, 0, 0, 0, 0, 0, 1, 0, 0, 0, 0, 0, 1, 0, 0, 0, 0, 0, 1, 0, 0, 0,\n",
       "       0, 0, 1])"
      ]
     },
     "execution_count": 55,
     "metadata": {},
     "output_type": "execute_result"
    }
   ],
   "source": [
    "c = a.ravel() # แปลง array ให้เป็น 1D (flat)\n",
    "c"
   ]
  },
  {
   "cell_type": "code",
   "execution_count": 57,
   "id": "e5c4601d-bfb2-462e-9953-3f029a1a30e6",
   "metadata": {},
   "outputs": [
    {
     "data": {
      "text/plain": [
       "array([[1, 4],\n",
       "       [2, 5],\n",
       "       [3, 6]])"
      ]
     },
     "execution_count": 57,
     "metadata": {},
     "output_type": "execute_result"
    }
   ],
   "source": [
    "b.transpose()  # transpose"
   ]
  },
  {
   "cell_type": "code",
   "execution_count": 66,
   "id": "9a06fa09-5de4-4171-a8a4-1561f6e78240",
   "metadata": {},
   "outputs": [
    {
     "data": {
      "text/plain": [
       "array([[1, 2, 5, 6],\n",
       "       [3, 4, 7, 8]])"
      ]
     },
     "execution_count": 66,
     "metadata": {},
     "output_type": "execute_result"
    }
   ],
   "source": [
    "a = np.array([[1,2],\n",
    "              [3,4]])\n",
    "b = np.array([[5,6],\n",
    "              [7,8]])\n",
    "c = np.concatenate((a,b), axis=1) #รวมร่าง 2 ตัว array หรือ เอา a กับ b มาต่อกันตามแกนที่กำหนด (default = axis=0)\n",
    "c"
   ]
  },
  {
   "cell_type": "code",
   "execution_count": 68,
   "id": "2a17fec9-feac-44ee-b662-b0a35677d08f",
   "metadata": {},
   "outputs": [
    {
     "data": {
      "text/plain": [
       "array([  1,   2,   3,   4, 100, 100])"
      ]
     },
     "execution_count": 68,
     "metadata": {},
     "output_type": "execute_result"
    }
   ],
   "source": [
    "a = np.append(a,100) # นำสมาชิกก้อนใหม่มาต่อท้าย คือ 100 \n",
    "a"
   ]
  },
  {
   "cell_type": "code",
   "execution_count": 72,
   "id": "a1ecae3a-e6e1-4769-804b-4287ffaf2e0f",
   "metadata": {},
   "outputs": [
    {
     "data": {
      "text/plain": [
       "array([[ 5,  6, 10, 10],\n",
       "       [ 7,  8, 20, 20]])"
      ]
     },
     "execution_count": 72,
     "metadata": {},
     "output_type": "execute_result"
    }
   ],
   "source": [
    "f = np.append(b,[[10],[20]],axis=1)  # นำสมาชิกก้อนใหม่มาต่อท้าย 2มิติ\n",
    "\n",
    "f"
   ]
  },
  {
   "cell_type": "code",
   "execution_count": 73,
   "id": "5edf1ced-49cd-47f4-992f-7629fe0f04f6",
   "metadata": {},
   "outputs": [
    {
     "data": {
      "text/plain": [
       "array([  1, 100,   2,   3,   4, 100, 100])"
      ]
     },
     "execution_count": 73,
     "metadata": {},
     "output_type": "execute_result"
    }
   ],
   "source": [
    "d = np.insert(a,1,100) # แทรกสมาชิก แทรกข้อมูลลงไป แทรกลง index 1 ,ขนาด 1มิติ\n",
    "d"
   ]
  },
  {
   "cell_type": "code",
   "execution_count": 75,
   "id": "2815dc3a-90e6-41d1-8174-0def673de223",
   "metadata": {},
   "outputs": [
    {
     "data": {
      "text/plain": [
       "array([  5, 100,   6,  10, 100,   7,   8,  20])"
      ]
     },
     "execution_count": 75,
     "metadata": {},
     "output_type": "execute_result"
    }
   ],
   "source": [
    "e = np.insert(a,(1,3),100) # แทรกหลายตัว,ขนาด 1มิติ\n",
    "e    \n",
    "# np.insert(a,1,100,axis=0)  2มิติ แนวตั้ง\n",
    "# np.insert(a,1,100,axis=1)  2มิติ แนวนอน"
   ]
  },
  {
   "cell_type": "code",
   "execution_count": 77,
   "id": "37adc1a7-2d9e-40a1-803d-29b934c87ba7",
   "metadata": {},
   "outputs": [
    {
     "data": {
      "text/plain": [
       "array([  1,   4, 100, 100])"
      ]
     },
     "execution_count": 77,
     "metadata": {},
     "output_type": "execute_result"
    }
   ],
   "source": [
    "a = np.delete(a,1) #ลบสมาชิก ขนาด  1 มิติ\n",
    "a"
   ]
  },
  {
   "cell_type": "code",
   "execution_count": 78,
   "id": "6715bcf4-c855-4d1d-92cc-24676166521e",
   "metadata": {},
   "outputs": [
    {
     "data": {
      "text/plain": [
       "array([[ 1,  2,  3],\n",
       "       [ 4,  5,  6],\n",
       "       [ 7,  8,  9],\n",
       "       [10, 11, 12]])"
      ]
     },
     "execution_count": 78,
     "metadata": {},
     "output_type": "execute_result"
    }
   ],
   "source": [
    "q = np.arange(1,13).reshape(4,3) #สร้าง array 2 มิติ ขนาด (4,3)ค่าข้างในเรียงจาก 1 → 12 \n",
    "q"
   ]
  },
  {
   "cell_type": "code",
   "execution_count": null,
   "id": "3f33c14f-d7c2-4521-b520-b82db09e4bb9",
   "metadata": {},
   "outputs": [],
   "source": [
    "# axis=0 → ลบ แถว\n",
    "# axis=1 → ลบ คอลัมน์\n",
    "# np.delete(a,2,axis=0) # ลบแถวหรือคอลัมน์ในอาร์เรย์ array ขนาด 2 มิติ\n",
    "# np.split(a,4)  # แยกข้อมูล ออกเป็นส่วนที่สมาชิกเท่ากัน 4 ส่วน  แต่ละกลุ่มเท่ากัน หรือกลุ่ม ละ 4 ขนาด 1 มิติ //แบ่งอาร์เรย์ออกเป็น ส่วนเท่ากัน จำนวน 4 ส่วนใช้ได้กับ 1D หรือ 2D แต่ต้องแน่ใจว่า จำนวนสมาชิกหารด้วย 4 ลงตัว\n",
    "# np.hsplit(a,4) # 2มิติ  แนวตั้ง  แยกข้อมูล ออกเป็นส่วนที่สมาชิกเท่ากัน 4 หรือแบ่งกลุ่ม\n",
    "# np.vsplit(a,4) # 2มิติ  แนวนอน   แยกข้อมูล ออกเป็นส่วนที่สมาชิกเท่ากัน 4 หรือแบ่งกลุ่ม"
   ]
  }
 ],
 "metadata": {
  "kernelspec": {
   "display_name": "anaconda-ai-2024.04-py310",
   "language": "python",
   "name": "conda-env-anaconda-ai-2024.04-py310-py"
  },
  "language_info": {
   "codemirror_mode": {
    "name": "ipython",
    "version": 3
   },
   "file_extension": ".py",
   "mimetype": "text/x-python",
   "name": "python",
   "nbconvert_exporter": "python",
   "pygments_lexer": "ipython3",
   "version": "3.10.13"
  }
 },
 "nbformat": 4,
 "nbformat_minor": 5
}
